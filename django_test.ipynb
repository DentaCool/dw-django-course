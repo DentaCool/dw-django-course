{
 "cells": [
  {
   "cell_type": "code",
   "execution_count": 18,
   "id": "responsible-november",
   "metadata": {},
   "outputs": [],
   "source": [
    "import os\n",
    "import django\n",
    "from django.contrib.auth import get_user_model\n",
    "import requests\n",
    "\n",
    "os.environ.setdefault('DJANGO_SETTINGS_MODULE', 'blog.settings')\n",
    "os.environ.setdefault('DJANGO_ALLOW_ASYNC_UNSAFE', 'true')\n",
    "django.setup()"
   ]
  },
  {
   "cell_type": "code",
   "execution_count": 19,
   "id": "renewable-advertising",
   "metadata": {
    "scrolled": false
   },
   "outputs": [
    {
     "name": "stderr",
     "output_type": "stream",
     "text": [
      "(0.001) SELECT \"auth_user\".\"id\", \"auth_user\".\"password\", \"auth_user\".\"last_login\", \"auth_user\".\"is_superuser\", \"auth_user\".\"username\", \"auth_user\".\"first_name\", \"auth_user\".\"last_name\", \"auth_user\".\"email\", \"auth_user\".\"is_staff\", \"auth_user\".\"is_active\", \"auth_user\".\"date_joined\" FROM \"auth_user\" WHERE \"auth_user\".\"id\" = 1 LIMIT 21; args=(1,)\n",
      "(0.001) SELECT \"article_post\".\"id\", \"article_post\".\"author_id\", \"article_post\".\"title\", \"article_post\".\"body\", \"article_post\".\"status\", \"article_post\".\"slug\", \"article_post\".\"created\", \"article_post\".\"updated\" FROM \"article_post\" ORDER BY \"article_post\".\"created\" ASC LIMIT 21; args=()\n"
     ]
    },
    {
     "data": {
      "text/plain": [
       "<QuerySet [<Post: sunt aut facere repellat provident occaecati excepturi optio reprehenderit>, <Post: qui est esse>, <Post: ea molestias quasi exercitationem repellat qui ipsa sit aut>, <Post: eum et est occaecati>, <Post: nesciunt quas odio>, <Post: dolorem eum magni eos aperiam quia>, <Post: magnam facilis autem>, <Post: dolorem dolore est ipsam>, <Post: nesciunt iure omnis dolorem tempora et accusantium>, <Post: optio molestias id quia eum>, <Post: et ea vero quia laudantium autem>, <Post: in quibusdam tempore odit est dolorem>, <Post: dolorum ut in voluptas mollitia et saepe quo animi>, <Post: voluptatem eligendi optio>, <Post: eveniet quod temporibus>, <Post: sint suscipit perspiciatis velit dolorum rerum ipsa laboriosam odio>, <Post: fugit voluptas sed molestias voluptatem provident>, <Post: voluptate et itaque vero tempora molestiae>, <Post: adipisci placeat illum aut reiciendis qui>, <Post: doloribus ad provident suscipit at>, '...(remaining elements truncated)...']>"
      ]
     },
     "execution_count": 19,
     "metadata": {},
     "output_type": "execute_result"
    }
   ],
   "source": [
    "from article.models import Post, Comment\n",
    "\n",
    "User = get_user_model()\n",
    "user = User.objects.get(id=1)\n",
    "Post.objects.all()"
   ]
  },
  {
   "cell_type": "code",
   "execution_count": 20,
   "id": "improved-feature",
   "metadata": {},
   "outputs": [],
   "source": [
    "url = \"https://jsonplaceholder.typicode.com/posts\"\n",
    "response = requests.get(url)"
   ]
  },
  {
   "cell_type": "code",
   "execution_count": null,
   "id": "continent-civilization",
   "metadata": {},
   "outputs": [],
   "source": [
    "print(response)"
   ]
  },
  {
   "cell_type": "code",
   "execution_count": null,
   "id": "unique-homeless",
   "metadata": {},
   "outputs": [],
   "source": [
    "data = response.json()\n",
    "data[0]"
   ]
  },
  {
   "cell_type": "code",
   "execution_count": null,
   "id": "composed-laser",
   "metadata": {
    "scrolled": true
   },
   "outputs": [],
   "source": [
    "Post.objects.all().delete()\n",
    "posts = {}\n",
    "for post in data:\n",
    "    p = Post.objects.create(title=post[\"title\"], body=post[\"body\"], author=user, slug=post[\"title\"])\n",
    "    posts[post[\"id\"]] = p.id\n",
    "    "
   ]
  },
  {
   "cell_type": "code",
   "execution_count": null,
   "id": "adolescent-discretion",
   "metadata": {},
   "outputs": [],
   "source": [
    "url = \"https://jsonplaceholder.typicode.com/comments\"\n",
    "response = requests.get(url)"
   ]
  },
  {
   "cell_type": "code",
   "execution_count": null,
   "id": "continental-passing",
   "metadata": {},
   "outputs": [],
   "source": [
    "data = response.json()\n",
    "data[50]\n"
   ]
  },
  {
   "cell_type": "code",
   "execution_count": null,
   "id": "catholic-creation",
   "metadata": {},
   "outputs": [],
   "source": [
    "Comment.objects.all().delete()\n",
    "for comment in data:\n",
    "    Comment.objects.create(author=user, \n",
    "                           body=comment[\"body\"], \n",
    "                           post=Post.objects.get(id=posts[comment[\"postId\"]]) )\n",
    "    \n",
    "    "
   ]
  },
  {
   "cell_type": "code",
   "execution_count": null,
   "id": "departmental-morocco",
   "metadata": {},
   "outputs": [],
   "source": [
    "print(Post.objects.all())\n",
    "\n"
   ]
  },
  {
   "cell_type": "code",
   "execution_count": null,
   "id": "regular-disclaimer",
   "metadata": {},
   "outputs": [],
   "source": []
  },
  {
   "cell_type": "code",
   "execution_count": null,
   "id": "cross-peeing",
   "metadata": {},
   "outputs": [],
   "source": []
  },
  {
   "cell_type": "code",
   "execution_count": null,
   "id": "green-romance",
   "metadata": {},
   "outputs": [],
   "source": []
  },
  {
   "cell_type": "code",
   "execution_count": null,
   "id": "limited-interview",
   "metadata": {},
   "outputs": [],
   "source": []
  },
  {
   "cell_type": "code",
   "execution_count": null,
   "id": "parliamentary-middle",
   "metadata": {},
   "outputs": [],
   "source": []
  }
 ],
 "metadata": {
  "kernelspec": {
   "display_name": "Python 3",
   "language": "python",
   "name": "python3"
  },
  "language_info": {
   "codemirror_mode": {
    "name": "ipython",
    "version": 3
   },
   "file_extension": ".py",
   "mimetype": "text/x-python",
   "name": "python",
   "nbconvert_exporter": "python",
   "pygments_lexer": "ipython3",
   "version": "3.8.5"
  }
 },
 "nbformat": 4,
 "nbformat_minor": 5
}
