{
 "cells": [
  {
   "cell_type": "code",
   "execution_count": null,
   "id": "proud-combination",
   "metadata": {},
   "outputs": [],
   "source": [
    "import os\n",
    "import django\n",
    "from django.contrib.auth import get_user_model\n",
    "import requests\n",
    "\n",
    "os.environ.setdefault('DJANGO_SETTINGS_MODULE', 'blog.settings')\n",
    "os.environ.setdefault('DJANGO_ALLOW_ASYNC_UNSAFE', 'true')\n",
    "django.setup()"
   ]
  },
  {
   "cell_type": "code",
   "execution_count": null,
   "id": "returning-attraction",
   "metadata": {
    "scrolled": false
   },
   "outputs": [],
   "source": [
    "from article.models import Post, Comment\n",
    "\n",
    "User = get_user_model()\n",
    "user = User.objects.get(id=1)\n",
    "Post.objects.all()"
   ]
  },
  {
   "cell_type": "code",
   "execution_count": null,
   "id": "august-sponsorship",
   "metadata": {},
   "outputs": [],
   "source": [
    "url = \"https://jsonplaceholder.typicode.com/posts\"\n",
    "response = requests.get(url)"
   ]
  },
  {
   "cell_type": "code",
   "execution_count": null,
   "id": "stupid-weekend",
   "metadata": {},
   "outputs": [],
   "source": [
    "print(response)"
   ]
  },
  {
   "cell_type": "code",
   "execution_count": null,
   "id": "banned-shame",
   "metadata": {},
   "outputs": [],
   "source": [
    "data = response.json()\n",
    "data[0]"
   ]
  },
  {
   "cell_type": "code",
   "execution_count": null,
   "id": "simplified-questionnaire",
   "metadata": {
    "scrolled": true
   },
   "outputs": [],
   "source": [
    "Post.objects.all().delete()\n",
    "posts = {}\n",
    "for post in data:\n",
    "    p = Post.objects.create(title=post[\"title\"], body=post[\"body\"], author=user, slug=post[\"title\"])\n",
    "    posts[post[\"id\"]] = p.id\n",
    "    "
   ]
  },
  {
   "cell_type": "code",
   "execution_count": null,
   "id": "freelance-atlanta",
   "metadata": {},
   "outputs": [],
   "source": [
    "url = \"https://jsonplaceholder.typicode.com/comments\"\n",
    "response = requests.get(url)"
   ]
  },
  {
   "cell_type": "code",
   "execution_count": null,
   "id": "sealed-nature",
   "metadata": {},
   "outputs": [],
   "source": [
    "data = response.json()\n",
    "data[50]\n"
   ]
  },
  {
   "cell_type": "code",
   "execution_count": null,
   "id": "automatic-leonard",
   "metadata": {},
   "outputs": [],
   "source": [
    "Comment.objects.all().delete()\n",
    "for comment in data:\n",
    "    Comment.objects.create(author=user, \n",
    "                           body=comment[\"body\"], \n",
    "                           post=Post.objects.get(id=posts[comment[\"postId\"]]) )\n",
    "    \n",
    "    "
   ]
  },
  {
   "cell_type": "code",
   "execution_count": null,
   "id": "canadian-sierra",
   "metadata": {},
   "outputs": [],
   "source": [
    "print(Post.objects.all())\n",
    "\n"
   ]
  },
  {
   "cell_type": "code",
   "execution_count": null,
   "id": "committed-store",
   "metadata": {},
   "outputs": [],
   "source": []
  },
  {
   "cell_type": "code",
   "execution_count": null,
   "id": "surface-reminder",
   "metadata": {},
   "outputs": [],
   "source": []
  },
  {
   "cell_type": "code",
   "execution_count": null,
   "id": "streaming-marijuana",
   "metadata": {},
   "outputs": [],
   "source": []
  },
  {
   "cell_type": "code",
   "execution_count": null,
   "id": "endless-louisville",
   "metadata": {},
   "outputs": [],
   "source": []
  },
  {
   "cell_type": "code",
   "execution_count": null,
   "id": "junior-language",
   "metadata": {},
   "outputs": [],
   "source": []
  }
 ],
 "metadata": {
  "kernelspec": {
   "display_name": "Python 3",
   "language": "python",
   "name": "python3"
  },
  "language_info": {
   "codemirror_mode": {
    "name": "ipython",
    "version": 3
   },
   "file_extension": ".py",
   "mimetype": "text/x-python",
   "name": "python",
   "nbconvert_exporter": "python",
   "pygments_lexer": "ipython3",
   "version": "3.8.5"
  }
 },
 "nbformat": 4,
 "nbformat_minor": 5
}
